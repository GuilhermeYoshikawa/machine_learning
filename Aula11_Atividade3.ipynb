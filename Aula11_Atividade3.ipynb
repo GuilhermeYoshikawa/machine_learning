{
  "nbformat": 4,
  "nbformat_minor": 0,
  "metadata": {
    "colab": {
      "name": "Aula11_Atividade3.ipynb",
      "provenance": [],
      "collapsed_sections": []
    },
    "kernelspec": {
      "name": "python3",
      "display_name": "Python 3"
    }
  },
  "cells": [
    {
      "cell_type": "markdown",
      "metadata": {
        "id": "qRADWtr7VGnX"
      },
      "source": [
        "Grupo 03\n",
        "\n",
        "Entrega 06 - Projeto\n",
        "\n",
        "Erik de Souza Bueno - 818113513\n",
        "\n",
        "Guilherme Yoshikawa da Silva - 818133945\n",
        "\n",
        "Luccas Samuel Martins Magalhães - 818141713\n",
        "\n",
        "Matheus Novais Chiappa - 818234016"
      ]
    },
    {
      "cell_type": "markdown",
      "metadata": {
        "id": "uXRaiyWzohQD"
      },
      "source": [
        "**• Objetivo**\n",
        "\n",
        "Assimilar os fundamentos da técnica de Naive Bayes (teoria) por meio da execução de exemplos baseado em linguagem Python."
      ]
    },
    {
      "cell_type": "markdown",
      "metadata": {
        "id": "P_zdhVx3o3wi"
      },
      "source": [
        "**ATIVIDADE 3**\n",
        "\n",
        "Para este exemplo, usaremos o conjunto de dados Wine do módulo sklearn.datasets e realizaremos um procedimentos de comparação de acurácia obtida pela técnica de K-NN e pela técnica de Naive Bayes."
      ]
    },
    {
      "cell_type": "code",
      "metadata": {
        "id": "Y2j7-n_so9Tw"
      },
      "source": [
        "# bibliotecas\n",
        "import numpy as np\n",
        "from sklearn.datasets import load_wine\n",
        "from sklearn.model_selection import train_test_split"
      ],
      "execution_count": 44,
      "outputs": []
    },
    {
      "cell_type": "code",
      "metadata": {
        "id": "uyUkz-97o9Za"
      },
      "source": [
        "# remover warnings\n",
        "import warnings\n",
        "warnings.filterwarnings(\"ignore\")"
      ],
      "execution_count": 45,
      "outputs": []
    },
    {
      "cell_type": "code",
      "metadata": {
        "id": "Em84D2c9o9ld"
      },
      "source": [
        "# dataset\n",
        "vinho = load_wine()"
      ],
      "execution_count": 46,
      "outputs": []
    },
    {
      "cell_type": "code",
      "metadata": {
        "id": "3TcfjS_mo9pG"
      },
      "source": [
        "# caracteristicas e alvo\n",
        "X = vinho.data\n",
        "y = vinho.target"
      ],
      "execution_count": 47,
      "outputs": []
    },
    {
      "cell_type": "code",
      "metadata": {
        "id": "_Sk4vCQYo9gG"
      },
      "source": [
        "# treino e teste\n",
        "(X_train, X_test, y_train, y_test) = train_test_split(X,y)"
      ],
      "execution_count": 48,
      "outputs": []
    },
    {
      "cell_type": "code",
      "metadata": {
        "id": "aVqbGW5To9W0"
      },
      "source": [
        "#Importa a biblioteca do modelo KNN\n",
        "from sklearn.neighbors import KNeighborsClassifier"
      ],
      "execution_count": 49,
      "outputs": []
    },
    {
      "cell_type": "code",
      "metadata": {
        "id": "iunsPS1ipMwZ"
      },
      "source": [
        "# instanciando o modelo\n",
        "modeloKNN = KNeighborsClassifier()"
      ],
      "execution_count": 50,
      "outputs": []
    },
    {
      "cell_type": "code",
      "metadata": {
        "id": "k0tJrx5VpM8Q",
        "outputId": "ee857469-1b1a-4976-f7d8-c341a5d68dfb",
        "colab": {
          "base_uri": "https://localhost:8080/"
        }
      },
      "source": [
        "# treinando o modelo utilizando o conjunto de treino\n",
        "modeloKNN.fit(X_train,y_train)"
      ],
      "execution_count": 51,
      "outputs": [
        {
          "output_type": "execute_result",
          "data": {
            "text/plain": [
              "KNeighborsClassifier(algorithm='auto', leaf_size=30, metric='minkowski',\n",
              "                     metric_params=None, n_jobs=None, n_neighbors=5, p=2,\n",
              "                     weights='uniform')"
            ]
          },
          "metadata": {
            "tags": []
          },
          "execution_count": 51
        }
      ]
    },
    {
      "cell_type": "code",
      "metadata": {
        "id": "LF-KZX4EpM3I",
        "outputId": "bc3400f2-4200-4f4b-bfb5-3c54f6152cbc",
        "colab": {
          "base_uri": "https://localhost:8080/"
        }
      },
      "source": [
        "# validando o modelo utilizando o conjunto de teste\n",
        "precisaoKNN = str(round(modeloKNN.score(X_test,y_test) * 100, 2))+\"%\"\n",
        "# imprimindo o resultado\n",
        "print(\"A acurácia do modelo k-NN foi\",precisaoKNN)"
      ],
      "execution_count": 52,
      "outputs": [
        {
          "output_type": "stream",
          "text": [
            "A acurácia do modelo k-NN foi 71.11%\n"
          ],
          "name": "stdout"
        }
      ]
    },
    {
      "cell_type": "code",
      "metadata": {
        "id": "8MNcQj1hpM1A",
        "outputId": "c0e1a4e7-55c3-4284-e612-cfe8f0ccca3c",
        "colab": {
          "base_uri": "https://localhost:8080/"
        }
      },
      "source": [
        "# predizendo o teste\n",
        "y_pred = modeloKNN.predict(X_test)\n",
        "# comparando predição com o real\n",
        "from sklearn.metrics import classification_report\n",
        "print(classification_report(y_test, y_pred))"
      ],
      "execution_count": 53,
      "outputs": [
        {
          "output_type": "stream",
          "text": [
            "              precision    recall  f1-score   support\n",
            "\n",
            "           0       0.68      0.94      0.79        16\n",
            "           1       0.87      0.68      0.76        19\n",
            "           2       0.50      0.40      0.44        10\n",
            "\n",
            "    accuracy                           0.71        45\n",
            "   macro avg       0.68      0.67      0.67        45\n",
            "weighted avg       0.72      0.71      0.70        45\n",
            "\n"
          ],
          "name": "stdout"
        }
      ]
    },
    {
      "cell_type": "code",
      "metadata": {
        "id": "uJFAO1c0pMtf",
        "outputId": "bf8d69d2-f939-44c1-fcb4-9368e420d4ed",
        "colab": {
          "base_uri": "https://localhost:8080/"
        }
      },
      "source": [
        "#Importa a biblioteca do modelo Naive Bayes Gaussiano\n",
        "from sklearn.naive_bayes import GaussianNB\n",
        "#Cria um classificador Gaussiano\n",
        "modeloNB = GaussianNB()\n",
        "# Treinando o modelo usando os ajustes de treinamento.\n",
        "modeloNB.fit(X_train,y_train)\n",
        "# validando o modelo utilizando o conjunto de teste\n",
        "\n",
        "precisaoNB = str(round(modeloNB.score(X_test,y_test) * 100, 2))+\"%\"\n",
        "# imprimindo o resultado\n",
        "print(\"A acurácia do modelo Naive Bayes foi\",precisaoNB)"
      ],
      "execution_count": 54,
      "outputs": [
        {
          "output_type": "stream",
          "text": [
            "A acurácia do modelo Naive Bayes foi 97.78%\n"
          ],
          "name": "stdout"
        }
      ]
    },
    {
      "cell_type": "code",
      "metadata": {
        "id": "Nsz1tnDlo3e4",
        "outputId": "63ae5eee-499a-45e8-b820-48d5e99ad1a0",
        "colab": {
          "base_uri": "https://localhost:8080/"
        }
      },
      "source": [
        "# predizendo o teste\n",
        "y_pred = modeloNB.predict(X_test)\n",
        "# comparando predição com o real\n",
        "from sklearn.metrics import classification_report\n",
        "print(classification_report(y_test, y_pred))"
      ],
      "execution_count": 55,
      "outputs": [
        {
          "output_type": "stream",
          "text": [
            "              precision    recall  f1-score   support\n",
            "\n",
            "           0       1.00      1.00      1.00        16\n",
            "           1       1.00      0.95      0.97        19\n",
            "           2       0.91      1.00      0.95        10\n",
            "\n",
            "    accuracy                           0.98        45\n",
            "   macro avg       0.97      0.98      0.98        45\n",
            "weighted avg       0.98      0.98      0.98        45\n",
            "\n"
          ],
          "name": "stdout"
        }
      ]
    },
    {
      "cell_type": "code",
      "metadata": {
        "id": "XhQMwtU6pn3h",
        "outputId": "3923c8b4-72b0-4fd9-915f-d2ed88fcc149",
        "colab": {
          "base_uri": "https://localhost:8080/"
        }
      },
      "source": [
        "# normalizando\n",
        "from sklearn.preprocessing import Normalizer\n",
        "scaler = Normalizer()\n",
        "scaler.fit(X)\n",
        "X = scaler.transform(X)\n",
        "\n",
        "scoresKNN = []\n",
        "scoresNB = []\n",
        "for i in range(2000):\n",
        "  X_train, X_test, y_train, y_test = train_test_split(X,y)\n",
        "  modeloKNN = KNeighborsClassifier()\n",
        "  modeloKNN.fit(X_train,y_train)\n",
        "  precisaoKNN = modeloNB.score(X_test,y_test)\n",
        "  scoresKNN.append(precisaoKNN)\n",
        "  modeloNB = GaussianNB()\n",
        "  modeloNB.fit(X_train,y_train)\n",
        "  precisaoNB = modeloNB.score(X_test,y_test)\n",
        "  scoresNB.append(precisaoNB)\n",
        "\n",
        "print(\"Média do KNN: {:.2f}%\".format(np.mean(scoresKNN)*100))\n",
        "print(\"Desvio padrão do KNN: {:.2f}%\".format(np.std(scoresKNN)*100))\n",
        "\n",
        "print(\"Média do Naive Bayes: {:.2f}%\".format(np.mean(scoresNB)*100))\n",
        "print(\"Desvio padrão do Naive Bayes: {:.2f}%\".format(np.std(scoresNB)*100))"
      ],
      "execution_count": 56,
      "outputs": [
        {
          "output_type": "stream",
          "text": [
            "Média do KNN: 90.19%\n",
            "Desvio padrão do KNN: 3.98%\n",
            "Média do Naive Bayes: 89.71%\n",
            "Desvio padrão do Naive Bayes: 4.03%\n"
          ],
          "name": "stdout"
        }
      ]
    },
    {
      "cell_type": "code",
      "metadata": {
        "id": "6e5IT2UWpn0j",
        "outputId": "577fdc47-7268-433e-baa1-f318dde33de4",
        "colab": {
          "base_uri": "https://localhost:8080/",
          "height": 545
        }
      },
      "source": [
        "import matplotlib.pyplot as plt\n",
        "import seaborn as sns\n",
        "\n",
        "sns.distplot(scoresKNN)\n",
        "plt.yticks([])\n",
        "plt.title(\"Acurácias do KNN\")\n",
        "plt.show()\n",
        "\n",
        "sns.distplot(scoresNB)\n",
        "plt.yticks([])\n",
        "plt.title(\"Acurácias do Naive Bayers\")\n",
        "plt.show()"
      ],
      "execution_count": 57,
      "outputs": [
        {
          "output_type": "display_data",
          "data": {
            "image/png": "[encoded data removed]",
            "text/plain": [
              "<Figure size 432x288 with 1 Axes>"
            ]
          },
          "metadata": {
            "tags": [],
            "needs_background": "light"
          }
        },
        {
          "output_type": "display_data",
          "data": {
            "image/png": "[encoded data removed]",
            "text/plain": [
              "<Figure size 432x288 with 1 Axes>"
            ]
          },
          "metadata": {
            "tags": [],
            "needs_background": "light"
          }
        }
      ]
    },
    {
      "cell_type": "markdown",
      "metadata": {
        "id": "gKcH3MlKYtfb"
      },
      "source": [
        "# Atividade 3\n",
        "\n",
        "Utilize a ideia da atividade 3 e faça a comparação da média com desvio padrão e o histograma de acurácia para 5000 treinamentos entre o algoritmo de KNN e Naive Bayes aplicado no dataset do câncer de mama e no do IRIS."
      ]
    },
    {
      "cell_type": "markdown",
      "metadata": {
        "id": "hci8suxicNqw"
      },
      "source": [
        "# dataset IRIS"
      ]
    },
    {
      "cell_type": "code",
      "metadata": {
        "id": "hcEOCg-xZWv8"
      },
      "source": [
        "# bibliotecas\n",
        "import numpy as np\n",
        "from sklearn.datasets import load_iris\n",
        "from sklearn.model_selection import train_test_split"
      ],
      "execution_count": 1,
      "outputs": []
    },
    {
      "cell_type": "code",
      "metadata": {
        "id": "i_piHGR_gC_R"
      },
      "source": [
        "# remover warnings\n",
        "import warnings\n",
        "warnings.filterwarnings(\"ignore\")"
      ],
      "execution_count": 2,
      "outputs": []
    },
    {
      "cell_type": "code",
      "metadata": {
        "id": "H3-h_vv-ZXQu"
      },
      "source": [
        "# dataset\n",
        "iris = load_iris()"
      ],
      "execution_count": 3,
      "outputs": []
    },
    {
      "cell_type": "code",
      "metadata": {
        "id": "iwdDjFEAZXiC"
      },
      "source": [
        "# caracteristicas e alvo\n",
        "X = iris.data\n",
        "y = iris.target"
      ],
      "execution_count": 4,
      "outputs": []
    },
    {
      "cell_type": "code",
      "metadata": {
        "id": "EaNy2L-eg5-X"
      },
      "source": [
        "# treino e teste\n",
        "(X_train, X_test, y_train, y_test) = train_test_split(X,y)"
      ],
      "execution_count": 5,
      "outputs": []
    },
    {
      "cell_type": "code",
      "metadata": {
        "id": "R688B6Hrg-dy"
      },
      "source": [
        "#Importa a biblioteca do modelo KNN\n",
        "from sklearn.neighbors import KNeighborsClassifier"
      ],
      "execution_count": 6,
      "outputs": []
    },
    {
      "cell_type": "code",
      "metadata": {
        "id": "QqVRiIX-hGiS",
        "outputId": "1b0869ff-edff-456b-c7d3-abc1de9c850f",
        "colab": {
          "base_uri": "https://localhost:8080/"
        }
      },
      "source": [
        "# instanciando o modelo\n",
        "modeloKNN = KNeighborsClassifier()\n",
        "# treinando o modelo utilizando o conjunto de treino\n",
        "modeloKNN.fit(X_train,y_train)\n",
        "# validando o modelo utilizando o conjunto de teste\n",
        "precisaoKNN = str(round(modeloKNN.score(X_test,y_test) * 100, 2))+\"%\"\n",
        "# imprimindo o resultado\n",
        "print(\"A acurácia do modelo k-NN foi\",precisaoKNN)"
      ],
      "execution_count": 7,
      "outputs": [
        {
          "output_type": "stream",
          "text": [
            "A acurácia do modelo k-NN foi 94.74%\n"
          ],
          "name": "stdout"
        }
      ]
    },
    {
      "cell_type": "code",
      "metadata": {
        "id": "FFfsZfwGhK8C",
        "outputId": "2ca83c89-cfc5-4688-f26b-8f9500170d01",
        "colab": {
          "base_uri": "https://localhost:8080/"
        }
      },
      "source": [
        "# predizendo o teste\n",
        "y_pred = modeloKNN.predict(X_test)\n",
        "# comparando predição com o real\n",
        "from sklearn.metrics import classification_report\n",
        "print(classification_report(y_test, y_pred))"
      ],
      "execution_count": 8,
      "outputs": [
        {
          "output_type": "stream",
          "text": [
            "              precision    recall  f1-score   support\n",
            "\n",
            "           0       1.00      1.00      1.00        17\n",
            "           1       0.88      0.88      0.88         8\n",
            "           2       0.92      0.92      0.92        13\n",
            "\n",
            "    accuracy                           0.95        38\n",
            "   macro avg       0.93      0.93      0.93        38\n",
            "weighted avg       0.95      0.95      0.95        38\n",
            "\n"
          ],
          "name": "stdout"
        }
      ]
    },
    {
      "cell_type": "code",
      "metadata": {
        "id": "K1rxicJuhONt"
      },
      "source": [
        "#Importa a biblioteca do modelo Naive Bayes Gaussiano\n",
        "from sklearn.naive_bayes import GaussianNB"
      ],
      "execution_count": 9,
      "outputs": []
    },
    {
      "cell_type": "code",
      "metadata": {
        "id": "TbHWATlHZW84",
        "outputId": "bd858faa-95ae-435a-9db6-1c760b51af3d",
        "colab": {
          "base_uri": "https://localhost:8080/"
        }
      },
      "source": [
        "#Cria um classificador Gaussiano\n",
        "modeloNB = GaussianNB()\n",
        "# Treinando o modelo usando os ajustes de treinamento.\n",
        "modeloNB.fit(X_train,y_train)\n",
        "# validando o modelo utilizando o conjunto de teste\n",
        "\n",
        "precisaoNB = str(round(modeloNB.score(X_test,y_test) * 100, 2))+\"%\"\n",
        "# imprimindo o resultado\n",
        "print(\"A acurácia do modelo Naive Bayes foi\",precisaoNB)"
      ],
      "execution_count": 10,
      "outputs": [
        {
          "output_type": "stream",
          "text": [
            "A acurácia do modelo Naive Bayes foi 94.74%\n"
          ],
          "name": "stdout"
        }
      ]
    },
    {
      "cell_type": "code",
      "metadata": {
        "id": "rcP7VD_whYVJ",
        "outputId": "75dc71d7-706e-44fa-d67b-e1f1dde226ec",
        "colab": {
          "base_uri": "https://localhost:8080/"
        }
      },
      "source": [
        "# predizendo o teste\n",
        "y_pred = modeloNB.predict(X_test)\n",
        "# comparando predição com o real\n",
        "from sklearn.metrics import classification_report\n",
        "print(classification_report(y_test, y_pred))"
      ],
      "execution_count": 11,
      "outputs": [
        {
          "output_type": "stream",
          "text": [
            "              precision    recall  f1-score   support\n",
            "\n",
            "           0       1.00      1.00      1.00        17\n",
            "           1       0.80      1.00      0.89         8\n",
            "           2       1.00      0.85      0.92        13\n",
            "\n",
            "    accuracy                           0.95        38\n",
            "   macro avg       0.93      0.95      0.94        38\n",
            "weighted avg       0.96      0.95      0.95        38\n",
            "\n"
          ],
          "name": "stdout"
        }
      ]
    },
    {
      "cell_type": "code",
      "metadata": {
        "id": "bb5K8pBGZWkN",
        "outputId": "b69e340f-8e41-4448-9846-4453e6e23df0",
        "colab": {
          "base_uri": "https://localhost:8080/"
        }
      },
      "source": [
        "# normalizando\n",
        "from sklearn.preprocessing import Normalizer\n",
        "scaler = Normalizer()\n",
        "scaler.fit(X)\n",
        "X = scaler.transform(X)\n",
        "\n",
        "scoresKNN = []\n",
        "scoresNB = []\n",
        "for i in range(5000):\n",
        "  X_train, X_test, y_train, y_test = train_test_split(X,y)\n",
        "  modeloKNN = KNeighborsClassifier()\n",
        "  modeloKNN.fit(X_train,y_train)\n",
        "  precisaoKNN = modeloNB.score(X_test,y_test)\n",
        "  scoresKNN.append(precisaoKNN)\n",
        "  modeloNB = GaussianNB()\n",
        "  modeloNB.fit(X_train,y_train)\n",
        "  precisaoNB = modeloNB.score(X_test,y_test)\n",
        "  scoresNB.append(precisaoNB)\n",
        "\n",
        "print(\"Média do KNN: {:.2f}%\".format(np.mean(scoresKNN)*100))\n",
        "print(\"Desvio padrão do KNN: {:.2f}%\".format(np.std(scoresKNN)*100))\n",
        "\n",
        "print(\"Média do Naive Bayes: {:.2f}%\".format(np.mean(scoresNB)*100))\n",
        "print(\"Desvio padrão do Naive Bayes: {:.2f}%\".format(np.std(scoresNB)*100))"
      ],
      "execution_count": 15,
      "outputs": [
        {
          "output_type": "stream",
          "text": [
            "Média do KNN: 97.33%\n",
            "Desvio padrão do KNN: 2.32%\n",
            "Média do Naive Bayes: 97.00%\n",
            "Desvio padrão do Naive Bayes: 2.51%\n"
          ],
          "name": "stdout"
        }
      ]
    },
    {
      "cell_type": "code",
      "metadata": {
        "id": "wj-QOfLzhtoh",
        "outputId": "a2ba7177-8f06-42d7-ccdd-5d5ff3425507",
        "colab": {
          "base_uri": "https://localhost:8080/",
          "height": 545
        }
      },
      "source": [
        "import matplotlib.pyplot as plt\n",
        "import seaborn as sns\n",
        "\n",
        "sns.distplot(scoresKNN)\n",
        "plt.yticks([])\n",
        "plt.title(\"Acurácias do KNN\")\n",
        "plt.show()\n",
        "\n",
        "sns.distplot(scoresNB)\n",
        "plt.yticks([])\n",
        "plt.title(\"Acurácias do Naive Bayers\")\n",
        "plt.show()"
      ],
      "execution_count": 16,
      "outputs": [
        {
          "output_type": "display_data",
          "data": {
            "image/png": "[encoded data removed]",
            "text/plain": [
              "<Figure size 432x288 with 1 Axes>"
            ]
          },
          "metadata": {
            "tags": [],
            "needs_background": "light"
          }
        },
        {
          "output_type": "display_data",
          "data": {
            "image/png": "[encoded data removed]",
            "text/plain": [
              "<Figure size 432x288 with 1 Axes>"
            ]
          },
          "metadata": {
            "tags": [],
            "needs_background": "light"
          }
        }
      ]
    },
    {
      "cell_type": "markdown",
      "metadata": {
        "id": "ytnkxnaojTJI"
      },
      "source": [
        "# dataset Cancêr de mama"
      ]
    },
    {
      "cell_type": "code",
      "metadata": {
        "id": "maoGZpNKjYte"
      },
      "source": [
        "# bibliotecas\n",
        "import numpy as np\n",
        "from sklearn.datasets import load_breast_cancer\n",
        "from sklearn.model_selection import train_test_split"
      ],
      "execution_count": 29,
      "outputs": []
    },
    {
      "cell_type": "code",
      "metadata": {
        "id": "0dnU0adtkPVI"
      },
      "source": [
        "# dataset\n",
        "cancer = load_breast_cancer()"
      ],
      "execution_count": 30,
      "outputs": []
    },
    {
      "cell_type": "code",
      "metadata": {
        "id": "bqBOYkrJkDVy"
      },
      "source": [
        "# remover warnings\n",
        "import warnings\n",
        "warnings.filterwarnings(\"ignore\")"
      ],
      "execution_count": 31,
      "outputs": []
    },
    {
      "cell_type": "code",
      "metadata": {
        "id": "LhUW6eJHjZQZ",
        "outputId": "aa67975e-7cbb-4c6a-e771-3ca2b0b7901d",
        "colab": {
          "base_uri": "https://localhost:8080/"
        }
      },
      "source": [
        "# Imprima toda a descrição dos dados rodando:\n",
        "print(cancer['DESCR'])"
      ],
      "execution_count": 32,
      "outputs": [
        {
          "output_type": "stream",
          "text": [
            ".. _breast_cancer_dataset:\n",
            "\n",
            "Breast cancer wisconsin (diagnostic) dataset\n",
            "--------------------------------------------\n",
            "\n",
            "**Data Set Characteristics:**\n",
            "\n",
            "    :Number of Instances: 569\n",
            "\n",
            "    :Number of Attributes: 30 numeric, predictive attributes and the class\n",
            "\n",
            "    :Attribute Information:\n",
            "        - radius (mean of distances from center to points on the perimeter)\n",
            "        - texture (standard deviation of gray-scale values)\n",
            "        - perimeter\n",
            "        - area\n",
            "        - smoothness (local variation in radius lengths)\n",
            "        - compactness (perimeter^2 / area - 1.0)\n",
            "        - concavity (severity of concave portions of the contour)\n",
            "        - concave points (number of concave portions of the contour)\n",
            "        - symmetry \n",
            "        - fractal dimension (\"coastline approximation\" - 1)\n",
            "\n",
            "        The mean, standard error, and \"worst\" or largest (mean of the three\n",
            "        largest values) of these features were computed for each image,\n",
            "        resulting in 30 features.  For instance, field 3 is Mean Radius, field\n",
            "        13 is Radius SE, field 23 is Worst Radius.\n",
            "\n",
            "        - class:\n",
            "                - WDBC-Malignant\n",
            "                - WDBC-Benign\n",
            "\n",
            "    :Summary Statistics:\n",
            "\n",
            "    ===================================== ====== ======\n",
            "                                           Min    Max\n",
            "    ===================================== ====== ======\n",
            "    radius (mean):                        6.981  28.11\n",
            "    texture (mean):                       9.71   39.28\n",
            "    perimeter (mean):                     43.79  188.5\n",
            "    area (mean):                          143.5  2501.0\n",
            "    smoothness (mean):                    0.053  0.163\n",
            "    compactness (mean):                   0.019  0.345\n",
            "    concavity (mean):                     0.0    0.427\n",
            "    concave points (mean):                0.0    0.201\n",
            "    symmetry (mean):                      0.106  0.304\n",
            "    fractal dimension (mean):             0.05   0.097\n",
            "    radius (standard error):              0.112  2.873\n",
            "    texture (standard error):             0.36   4.885\n",
            "    perimeter (standard error):           0.757  21.98\n",
            "    area (standard error):                6.802  542.2\n",
            "    smoothness (standard error):          0.002  0.031\n",
            "    compactness (standard error):         0.002  0.135\n",
            "    concavity (standard error):           0.0    0.396\n",
            "    concave points (standard error):      0.0    0.053\n",
            "    symmetry (standard error):            0.008  0.079\n",
            "    fractal dimension (standard error):   0.001  0.03\n",
            "    radius (worst):                       7.93   36.04\n",
            "    texture (worst):                      12.02  49.54\n",
            "    perimeter (worst):                    50.41  251.2\n",
            "    area (worst):                         185.2  4254.0\n",
            "    smoothness (worst):                   0.071  0.223\n",
            "    compactness (worst):                  0.027  1.058\n",
            "    concavity (worst):                    0.0    1.252\n",
            "    concave points (worst):               0.0    0.291\n",
            "    symmetry (worst):                     0.156  0.664\n",
            "    fractal dimension (worst):            0.055  0.208\n",
            "    ===================================== ====== ======\n",
            "\n",
            "    :Missing Attribute Values: None\n",
            "\n",
            "    :Class Distribution: 212 - Malignant, 357 - Benign\n",
            "\n",
            "    :Creator:  Dr. William H. Wolberg, W. Nick Street, Olvi L. Mangasarian\n",
            "\n",
            "    :Donor: Nick Street\n",
            "\n",
            "    :Date: November, 1995\n",
            "\n",
            "This is a copy of UCI ML Breast Cancer Wisconsin (Diagnostic) datasets.\n",
            "https://goo.gl/U2Uwz2\n",
            "\n",
            "Features are computed from a digitized image of a fine needle\n",
            "aspirate (FNA) of a breast mass.  They describe\n",
            "characteristics of the cell nuclei present in the image.\n",
            "\n",
            "Separating plane described above was obtained using\n",
            "Multisurface Method-Tree (MSM-T) [K. P. Bennett, \"Decision Tree\n",
            "Construction Via Linear Programming.\" Proceedings of the 4th\n",
            "Midwest Artificial Intelligence and Cognitive Science Society,\n",
            "pp. 97-101, 1992], a classification method which uses linear\n",
            "programming to construct a decision tree.  Relevant features\n",
            "were selected using an exhaustive search in the space of 1-4\n",
            "features and 1-3 separating planes.\n",
            "\n",
            "The actual linear program used to obtain the separating plane\n",
            "in the 3-dimensional space is that described in:\n",
            "[K. P. Bennett and O. L. Mangasarian: \"Robust Linear\n",
            "Programming Discrimination of Two Linearly Inseparable Sets\",\n",
            "Optimization Methods and Software 1, 1992, 23-34].\n",
            "\n",
            "This database is also available through the UW CS ftp server:\n",
            "\n",
            "ftp ftp.cs.wisc.edu\n",
            "cd math-prog/cpo-dataset/machine-learn/WDBC/\n",
            "\n",
            ".. topic:: References\n",
            "\n",
            "   - W.N. Street, W.H. Wolberg and O.L. Mangasarian. Nuclear feature extraction \n",
            "     for breast tumor diagnosis. IS&T/SPIE 1993 International Symposium on \n",
            "     Electronic Imaging: Science and Technology, volume 1905, pages 861-870,\n",
            "     San Jose, CA, 1993.\n",
            "   - O.L. Mangasarian, W.N. Street and W.H. Wolberg. Breast cancer diagnosis and \n",
            "     prognosis via linear programming. Operations Research, 43(4), pages 570-577, \n",
            "     July-August 1995.\n",
            "   - W.H. Wolberg, W.N. Street, and O.L. Mangasarian. Machine learning techniques\n",
            "     to diagnose breast cancer from fine-needle aspirates. Cancer Letters 77 (1994) \n",
            "     163-171.\n"
          ],
          "name": "stdout"
        }
      ]
    },
    {
      "cell_type": "code",
      "metadata": {
        "id": "CXF3cpHIjZVj"
      },
      "source": [
        "# 569 casos com 30 características\n",
        "X = cancer['data']\n",
        "y = cancer['target']"
      ],
      "execution_count": 33,
      "outputs": []
    },
    {
      "cell_type": "code",
      "metadata": {
        "id": "KLXWTdpBjZd0"
      },
      "source": [
        "# treino e teste\n",
        "(X_train, X_test, y_train, y_test) = train_test_split(X,y)"
      ],
      "execution_count": 34,
      "outputs": []
    },
    {
      "cell_type": "code",
      "metadata": {
        "id": "zUu3OFK8jZav"
      },
      "source": [
        "#Importa a biblioteca do modelo KNN\n",
        "from sklearn.neighbors import KNeighborsClassifier"
      ],
      "execution_count": 35,
      "outputs": []
    },
    {
      "cell_type": "code",
      "metadata": {
        "id": "4mr4v_RAjZTB",
        "outputId": "a86cc316-230c-4da8-af02-2758f9543d16",
        "colab": {
          "base_uri": "https://localhost:8080/"
        }
      },
      "source": [
        "# instanciando o modelo\n",
        "modeloKNN = KNeighborsClassifier()\n",
        "# treinando o modelo utilizando o conjunto de treino\n",
        "modeloKNN.fit(X_train,y_train)\n",
        "# validando o modelo utilizando o conjunto de teste\n",
        "precisaoKNN = str(round(modeloKNN.score(X_test,y_test) * 100, 2))+\"%\"\n",
        "# imprimindo o resultado\n",
        "print(\"A acurácia do modelo k-NN foi\",precisaoKNN)"
      ],
      "execution_count": 36,
      "outputs": [
        {
          "output_type": "stream",
          "text": [
            "A acurácia do modelo k-NN foi 93.71%\n"
          ],
          "name": "stdout"
        }
      ]
    },
    {
      "cell_type": "code",
      "metadata": {
        "id": "mT1YNel3jZLC",
        "outputId": "37dab778-0b6f-421d-d94e-22df56ed1c58",
        "colab": {
          "base_uri": "https://localhost:8080/"
        }
      },
      "source": [
        "# predizendo o teste\n",
        "y_pred = modeloKNN.predict(X_test)\n",
        "# comparando predição com o real\n",
        "from sklearn.metrics import classification_report\n",
        "print(classification_report(y_test, y_pred))"
      ],
      "execution_count": 37,
      "outputs": [
        {
          "output_type": "stream",
          "text": [
            "              precision    recall  f1-score   support\n",
            "\n",
            "           0       0.93      0.91      0.92        58\n",
            "           1       0.94      0.95      0.95        85\n",
            "\n",
            "    accuracy                           0.94       143\n",
            "   macro avg       0.94      0.93      0.93       143\n",
            "weighted avg       0.94      0.94      0.94       143\n",
            "\n"
          ],
          "name": "stdout"
        }
      ]
    },
    {
      "cell_type": "code",
      "metadata": {
        "id": "NYYpNBSKnE4C"
      },
      "source": [
        "#Importa a biblioteca do modelo Naive Bayes Gaussiano\n",
        "from sklearn.naive_bayes import GaussianNB"
      ],
      "execution_count": 40,
      "outputs": []
    },
    {
      "cell_type": "code",
      "metadata": {
        "id": "A2WOi0-UnEx9",
        "outputId": "8554ab99-0e01-4589-aa79-0f9bffb72b96",
        "colab": {
          "base_uri": "https://localhost:8080/"
        }
      },
      "source": [
        "#Cria um classificador Gaussiano\n",
        "modeloNB = GaussianNB()\n",
        "# Treinando o modelo usando os ajustes de treinamento.\n",
        "modeloNB.fit(X_train,y_train)\n",
        "# validando o modelo utilizando o conjunto de teste\n",
        "\n",
        "precisaoNB = str(round(modeloNB.score(X_test,y_test) * 100, 2))+\"%\"\n",
        "# imprimindo o resultado\n",
        "print(\"A acurácia do modelo Naive Bayes foi\",precisaoNB)"
      ],
      "execution_count": 41,
      "outputs": [
        {
          "output_type": "stream",
          "text": [
            "A acurácia do modelo Naive Bayes foi 83.22%\n"
          ],
          "name": "stdout"
        }
      ]
    },
    {
      "cell_type": "code",
      "metadata": {
        "id": "W4b6PpmPkrXk",
        "outputId": "c5b861d3-3bea-45ce-a1f5-852d6b8098db",
        "colab": {
          "base_uri": "https://localhost:8080/"
        }
      },
      "source": [
        "# normalizando\n",
        "from sklearn.preprocessing import Normalizer\n",
        "scaler = Normalizer()\n",
        "scaler.fit(X)\n",
        "X = scaler.transform(X)\n",
        "\n",
        "scoresKNN = []\n",
        "scoresNB = []\n",
        "for i in range(5000):\n",
        "  X_train, X_test, y_train, y_test = train_test_split(X,y)\n",
        "  modeloKNN = KNeighborsClassifier()\n",
        "  modeloKNN.fit(X_train,y_train)\n",
        "  precisaoKNN = modeloNB.score(X_test,y_test)\n",
        "  scoresKNN.append(precisaoKNN)\n",
        "  modeloNB = GaussianNB()\n",
        "  modeloNB.fit(X_train,y_train)\n",
        "  precisaoNB = modeloNB.score(X_test,y_test)\n",
        "  scoresNB.append(precisaoNB)\n",
        "\n",
        "print(\"Média do KNN: {:.2f}%\".format(np.mean(scoresKNN)*100))\n",
        "print(\"Desvio padrão do KNN: {:.2f}%\".format(np.std(scoresKNN)*100))\n",
        "\n",
        "print(\"Média do Naive Bayes: {:.2f}%\".format(np.mean(scoresNB)*100))\n",
        "print(\"Desvio padrão do Naive Bayes: {:.2f}%\".format(np.std(scoresNB)*100))"
      ],
      "execution_count": 42,
      "outputs": [
        {
          "output_type": "stream",
          "text": [
            "Média do KNN: 81.82%\n",
            "Desvio padrão do KNN: 2.91%\n",
            "Média do Naive Bayes: 81.64%\n",
            "Desvio padrão do Naive Bayes: 3.01%\n"
          ],
          "name": "stdout"
        }
      ]
    },
    {
      "cell_type": "code",
      "metadata": {
        "id": "5DpBvEBLkrPm",
        "outputId": "298ac9cd-6a66-4209-eae1-fe21afc770a6",
        "colab": {
          "base_uri": "https://localhost:8080/",
          "height": 545
        }
      },
      "source": [
        "import matplotlib.pyplot as plt\n",
        "import seaborn as sns\n",
        "\n",
        "sns.distplot(scoresKNN)\n",
        "plt.yticks([])\n",
        "plt.title(\"Acurácias do KNN\")\n",
        "plt.show()\n",
        "\n",
        "sns.distplot(scoresNB)\n",
        "plt.yticks([])\n",
        "plt.title(\"Acurácias do Naive Bayers\")\n",
        "plt.show()"
      ],
      "execution_count": 43,
      "outputs": [
        {
          "output_type": "display_data",
          "data": {
            "image/png": "[encoded data removed]",
            "text/plain": [
              "<Figure size 432x288 with 1 Axes>"
            ]
          },
          "metadata": {
            "tags": [],
            "needs_background": "light"
          }
        },
        {
          "output_type": "display_data",
          "data": {
            "image/png": "[encoded data removed]",
            "text/plain": [
              "<Figure size 432x288 with 1 Axes>"
            ]
          },
          "metadata": {
            "tags": [],
            "needs_background": "light"
          }
        }
      ]
    }
  ]
}